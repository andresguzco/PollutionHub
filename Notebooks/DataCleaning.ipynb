{
 "cells": [
  {
   "cell_type": "code",
   "execution_count": 1,
   "id": "initial_id",
   "metadata": {
    "collapsed": true,
    "ExecuteTime": {
     "end_time": "2024-03-06T11:39:13.335991Z",
     "start_time": "2024-03-06T11:39:13.093641Z"
    }
   },
   "outputs": [],
   "source": [
    "from Engine.Utils.DataCleaner import RunFlow"
   ]
  },
  {
   "cell_type": "code",
   "outputs": [
    {
     "data": {
      "text/plain": "           pm25  pm25_cal  pm25_fac  pm25_max  pm25_min  \\\n0         4.000     1.640  0.410000       4.1       3.9   \n1        11.176     4.256  0.381000      12.4      10.1   \n2        10.810     3.996  0.370000      12.3       9.0   \n3        11.510     4.292  0.371000      13.9      10.0   \n4         8.942     3.471  0.390000      10.3       7.3   \n...         ...       ...       ...       ...       ...   \n1349808  11.910     9.877  0.829303      15.2      10.3   \n1349809   0.000     0.000       NaN       0.0       0.0   \n1349810   7.887    11.534  1.461850       8.7       7.2   \n1349811   9.182    13.432  1.463180      10.5       8.3   \n1349812   7.100     8.946  1.260000       7.1       7.1   \n\n                        timestamp   latitude  longitude        tag  \\\n0       2019-07-12 14:00:00+00:00  52.472796   4.662902  Beverwijk   \n1       2019-07-12 14:00:00+00:00  52.490108   4.657723  Beverwijk   \n2       2019-07-12 14:00:00+00:00  52.484320   4.642918  Beverwijk   \n3       2019-07-12 14:00:00+00:00  52.487020   4.650807  Beverwijk   \n4       2019-07-12 14:00:00+00:00  52.477398   4.658354  Beverwijk   \n...                           ...        ...        ...        ...   \n1349808 2022-10-22 23:00:00+00:00  52.473001   4.662653  Beverwijk   \n1349809 2022-10-22 23:00:00+00:00  52.477803   4.654015  Beverwijk   \n1349810 2022-10-22 23:00:00+00:00  52.458385   4.834105    Zaandam   \n1349811 2022-10-22 23:00:00+00:00  52.458385   4.834105    Zaandam   \n1349812 2022-10-22 23:00:00+00:00  52.396716   4.904964  Amsterdam   \n\n         Wind Angle  Wind Speed  \n0               320        21.6  \n1               320        21.6  \n2               320        21.6  \n3               320        21.6  \n4               320        21.6  \n...             ...         ...  \n1349808         140         7.2  \n1349809         140         7.2  \n1349810         140         7.2  \n1349811         140         7.2  \n1349812         140         7.2  \n\n[1191685 rows x 11 columns]",
      "text/html": "<div>\n<style scoped>\n    .dataframe tbody tr th:only-of-type {\n        vertical-align: middle;\n    }\n\n    .dataframe tbody tr th {\n        vertical-align: top;\n    }\n\n    .dataframe thead th {\n        text-align: right;\n    }\n</style>\n<table border=\"1\" class=\"dataframe\">\n  <thead>\n    <tr style=\"text-align: right;\">\n      <th></th>\n      <th>pm25</th>\n      <th>pm25_cal</th>\n      <th>pm25_fac</th>\n      <th>pm25_max</th>\n      <th>pm25_min</th>\n      <th>timestamp</th>\n      <th>latitude</th>\n      <th>longitude</th>\n      <th>tag</th>\n      <th>Wind Angle</th>\n      <th>Wind Speed</th>\n    </tr>\n  </thead>\n  <tbody>\n    <tr>\n      <th>0</th>\n      <td>4.000</td>\n      <td>1.640</td>\n      <td>0.410000</td>\n      <td>4.1</td>\n      <td>3.9</td>\n      <td>2019-07-12 14:00:00+00:00</td>\n      <td>52.472796</td>\n      <td>4.662902</td>\n      <td>Beverwijk</td>\n      <td>320</td>\n      <td>21.6</td>\n    </tr>\n    <tr>\n      <th>1</th>\n      <td>11.176</td>\n      <td>4.256</td>\n      <td>0.381000</td>\n      <td>12.4</td>\n      <td>10.1</td>\n      <td>2019-07-12 14:00:00+00:00</td>\n      <td>52.490108</td>\n      <td>4.657723</td>\n      <td>Beverwijk</td>\n      <td>320</td>\n      <td>21.6</td>\n    </tr>\n    <tr>\n      <th>2</th>\n      <td>10.810</td>\n      <td>3.996</td>\n      <td>0.370000</td>\n      <td>12.3</td>\n      <td>9.0</td>\n      <td>2019-07-12 14:00:00+00:00</td>\n      <td>52.484320</td>\n      <td>4.642918</td>\n      <td>Beverwijk</td>\n      <td>320</td>\n      <td>21.6</td>\n    </tr>\n    <tr>\n      <th>3</th>\n      <td>11.510</td>\n      <td>4.292</td>\n      <td>0.371000</td>\n      <td>13.9</td>\n      <td>10.0</td>\n      <td>2019-07-12 14:00:00+00:00</td>\n      <td>52.487020</td>\n      <td>4.650807</td>\n      <td>Beverwijk</td>\n      <td>320</td>\n      <td>21.6</td>\n    </tr>\n    <tr>\n      <th>4</th>\n      <td>8.942</td>\n      <td>3.471</td>\n      <td>0.390000</td>\n      <td>10.3</td>\n      <td>7.3</td>\n      <td>2019-07-12 14:00:00+00:00</td>\n      <td>52.477398</td>\n      <td>4.658354</td>\n      <td>Beverwijk</td>\n      <td>320</td>\n      <td>21.6</td>\n    </tr>\n    <tr>\n      <th>...</th>\n      <td>...</td>\n      <td>...</td>\n      <td>...</td>\n      <td>...</td>\n      <td>...</td>\n      <td>...</td>\n      <td>...</td>\n      <td>...</td>\n      <td>...</td>\n      <td>...</td>\n      <td>...</td>\n    </tr>\n    <tr>\n      <th>1349808</th>\n      <td>11.910</td>\n      <td>9.877</td>\n      <td>0.829303</td>\n      <td>15.2</td>\n      <td>10.3</td>\n      <td>2022-10-22 23:00:00+00:00</td>\n      <td>52.473001</td>\n      <td>4.662653</td>\n      <td>Beverwijk</td>\n      <td>140</td>\n      <td>7.2</td>\n    </tr>\n    <tr>\n      <th>1349809</th>\n      <td>0.000</td>\n      <td>0.000</td>\n      <td>NaN</td>\n      <td>0.0</td>\n      <td>0.0</td>\n      <td>2022-10-22 23:00:00+00:00</td>\n      <td>52.477803</td>\n      <td>4.654015</td>\n      <td>Beverwijk</td>\n      <td>140</td>\n      <td>7.2</td>\n    </tr>\n    <tr>\n      <th>1349810</th>\n      <td>7.887</td>\n      <td>11.534</td>\n      <td>1.461850</td>\n      <td>8.7</td>\n      <td>7.2</td>\n      <td>2022-10-22 23:00:00+00:00</td>\n      <td>52.458385</td>\n      <td>4.834105</td>\n      <td>Zaandam</td>\n      <td>140</td>\n      <td>7.2</td>\n    </tr>\n    <tr>\n      <th>1349811</th>\n      <td>9.182</td>\n      <td>13.432</td>\n      <td>1.463180</td>\n      <td>10.5</td>\n      <td>8.3</td>\n      <td>2022-10-22 23:00:00+00:00</td>\n      <td>52.458385</td>\n      <td>4.834105</td>\n      <td>Zaandam</td>\n      <td>140</td>\n      <td>7.2</td>\n    </tr>\n    <tr>\n      <th>1349812</th>\n      <td>7.100</td>\n      <td>8.946</td>\n      <td>1.260000</td>\n      <td>7.1</td>\n      <td>7.1</td>\n      <td>2022-10-22 23:00:00+00:00</td>\n      <td>52.396716</td>\n      <td>4.904964</td>\n      <td>Amsterdam</td>\n      <td>140</td>\n      <td>7.2</td>\n    </tr>\n  </tbody>\n</table>\n<p>1191685 rows × 11 columns</p>\n</div>"
     },
     "execution_count": 2,
     "metadata": {},
     "output_type": "execute_result"
    }
   ],
   "source": [
    "Process = RunFlow()\n",
    "Process.run()\n",
    "Process.raw_data"
   ],
   "metadata": {
    "collapsed": false,
    "ExecuteTime": {
     "end_time": "2024-03-06T11:39:15.825902Z",
     "start_time": "2024-03-06T11:39:13.826587Z"
    }
   },
   "id": "eb8b27ccacda8a25",
   "execution_count": 2
  },
  {
   "cell_type": "code",
   "outputs": [
    {
     "data": {
      "text/plain": "                                 tag     pm25  pm25_cal  pm25_fac  pm25_max  \\\ntimestamp                                                                     \n2019-06-25 01:00:00+00:00  Amsterdam  13.7250   21.5840  1.521000    16.500   \n2019-06-25 02:00:00+00:00  Amsterdam  15.1530   18.5000  1.250000    16.200   \n2019-06-25 03:00:00+00:00  Amsterdam  12.7850   18.9000  1.499000    14.000   \n2019-06-25 04:00:00+00:00  Amsterdam  13.4210   19.7280  1.442000    14.700   \n2019-06-25 05:00:00+00:00  Amsterdam  12.6700   17.8120  1.456000    14.800   \n...                              ...      ...       ...       ...       ...   \n2022-10-22 19:00:00+00:00    Zaandam   7.6378   12.7128  1.653304    11.140   \n2022-10-22 20:00:00+00:00    Zaandam   9.4852   17.9200  1.872304    12.480   \n2022-10-22 21:00:00+00:00    Zaandam  10.1634   18.6032  1.810980    11.798   \n2022-10-22 22:00:00+00:00    Zaandam  11.6370   18.4598  1.578330    14.300   \n2022-10-22 23:00:00+00:00    Zaandam  11.5918   17.7138  1.513044    12.700   \n\n                           pm25_min   latitude  longitude  Wind Angle  \\\ntimestamp                                                               \n2019-06-25 01:00:00+00:00    11.600  52.359714   4.866208        50.0   \n2019-06-25 02:00:00+00:00    13.100  52.359714   4.866208        50.0   \n2019-06-25 03:00:00+00:00    12.100  52.359714   4.866208        50.0   \n2019-06-25 04:00:00+00:00    11.900  52.359714   4.866208        70.0   \n2019-06-25 05:00:00+00:00    10.600  52.359714   4.866208        80.0   \n...                             ...        ...        ...         ...   \n2022-10-22 19:00:00+00:00     6.138  52.457726   4.825823       140.0   \n2022-10-22 20:00:00+00:00     7.760  52.457726   4.825823       160.0   \n2022-10-22 21:00:00+00:00     8.680  52.457726   4.825823       140.0   \n2022-10-22 22:00:00+00:00    10.278  52.457726   4.825823       150.0   \n2022-10-22 23:00:00+00:00    10.620  52.457726   4.825823       140.0   \n\n                           Wind Speed  \ntimestamp                              \n2019-06-25 01:00:00+00:00         7.2  \n2019-06-25 02:00:00+00:00         7.2  \n2019-06-25 03:00:00+00:00         7.2  \n2019-06-25 04:00:00+00:00         7.2  \n2019-06-25 05:00:00+00:00         7.2  \n...                               ...  \n2022-10-22 19:00:00+00:00         7.2  \n2022-10-22 20:00:00+00:00         7.2  \n2022-10-22 21:00:00+00:00         7.2  \n2022-10-22 22:00:00+00:00         7.2  \n2022-10-22 23:00:00+00:00         7.2  \n\n[177977 rows x 10 columns]",
      "text/html": "<div>\n<style scoped>\n    .dataframe tbody tr th:only-of-type {\n        vertical-align: middle;\n    }\n\n    .dataframe tbody tr th {\n        vertical-align: top;\n    }\n\n    .dataframe thead th {\n        text-align: right;\n    }\n</style>\n<table border=\"1\" class=\"dataframe\">\n  <thead>\n    <tr style=\"text-align: right;\">\n      <th></th>\n      <th>tag</th>\n      <th>pm25</th>\n      <th>pm25_cal</th>\n      <th>pm25_fac</th>\n      <th>pm25_max</th>\n      <th>pm25_min</th>\n      <th>latitude</th>\n      <th>longitude</th>\n      <th>Wind Angle</th>\n      <th>Wind Speed</th>\n    </tr>\n    <tr>\n      <th>timestamp</th>\n      <th></th>\n      <th></th>\n      <th></th>\n      <th></th>\n      <th></th>\n      <th></th>\n      <th></th>\n      <th></th>\n      <th></th>\n      <th></th>\n    </tr>\n  </thead>\n  <tbody>\n    <tr>\n      <th>2019-06-25 01:00:00+00:00</th>\n      <td>Amsterdam</td>\n      <td>13.7250</td>\n      <td>21.5840</td>\n      <td>1.521000</td>\n      <td>16.500</td>\n      <td>11.600</td>\n      <td>52.359714</td>\n      <td>4.866208</td>\n      <td>50.0</td>\n      <td>7.2</td>\n    </tr>\n    <tr>\n      <th>2019-06-25 02:00:00+00:00</th>\n      <td>Amsterdam</td>\n      <td>15.1530</td>\n      <td>18.5000</td>\n      <td>1.250000</td>\n      <td>16.200</td>\n      <td>13.100</td>\n      <td>52.359714</td>\n      <td>4.866208</td>\n      <td>50.0</td>\n      <td>7.2</td>\n    </tr>\n    <tr>\n      <th>2019-06-25 03:00:00+00:00</th>\n      <td>Amsterdam</td>\n      <td>12.7850</td>\n      <td>18.9000</td>\n      <td>1.499000</td>\n      <td>14.000</td>\n      <td>12.100</td>\n      <td>52.359714</td>\n      <td>4.866208</td>\n      <td>50.0</td>\n      <td>7.2</td>\n    </tr>\n    <tr>\n      <th>2019-06-25 04:00:00+00:00</th>\n      <td>Amsterdam</td>\n      <td>13.4210</td>\n      <td>19.7280</td>\n      <td>1.442000</td>\n      <td>14.700</td>\n      <td>11.900</td>\n      <td>52.359714</td>\n      <td>4.866208</td>\n      <td>70.0</td>\n      <td>7.2</td>\n    </tr>\n    <tr>\n      <th>2019-06-25 05:00:00+00:00</th>\n      <td>Amsterdam</td>\n      <td>12.6700</td>\n      <td>17.8120</td>\n      <td>1.456000</td>\n      <td>14.800</td>\n      <td>10.600</td>\n      <td>52.359714</td>\n      <td>4.866208</td>\n      <td>80.0</td>\n      <td>7.2</td>\n    </tr>\n    <tr>\n      <th>...</th>\n      <td>...</td>\n      <td>...</td>\n      <td>...</td>\n      <td>...</td>\n      <td>...</td>\n      <td>...</td>\n      <td>...</td>\n      <td>...</td>\n      <td>...</td>\n      <td>...</td>\n    </tr>\n    <tr>\n      <th>2022-10-22 19:00:00+00:00</th>\n      <td>Zaandam</td>\n      <td>7.6378</td>\n      <td>12.7128</td>\n      <td>1.653304</td>\n      <td>11.140</td>\n      <td>6.138</td>\n      <td>52.457726</td>\n      <td>4.825823</td>\n      <td>140.0</td>\n      <td>7.2</td>\n    </tr>\n    <tr>\n      <th>2022-10-22 20:00:00+00:00</th>\n      <td>Zaandam</td>\n      <td>9.4852</td>\n      <td>17.9200</td>\n      <td>1.872304</td>\n      <td>12.480</td>\n      <td>7.760</td>\n      <td>52.457726</td>\n      <td>4.825823</td>\n      <td>160.0</td>\n      <td>7.2</td>\n    </tr>\n    <tr>\n      <th>2022-10-22 21:00:00+00:00</th>\n      <td>Zaandam</td>\n      <td>10.1634</td>\n      <td>18.6032</td>\n      <td>1.810980</td>\n      <td>11.798</td>\n      <td>8.680</td>\n      <td>52.457726</td>\n      <td>4.825823</td>\n      <td>140.0</td>\n      <td>7.2</td>\n    </tr>\n    <tr>\n      <th>2022-10-22 22:00:00+00:00</th>\n      <td>Zaandam</td>\n      <td>11.6370</td>\n      <td>18.4598</td>\n      <td>1.578330</td>\n      <td>14.300</td>\n      <td>10.278</td>\n      <td>52.457726</td>\n      <td>4.825823</td>\n      <td>150.0</td>\n      <td>7.2</td>\n    </tr>\n    <tr>\n      <th>2022-10-22 23:00:00+00:00</th>\n      <td>Zaandam</td>\n      <td>11.5918</td>\n      <td>17.7138</td>\n      <td>1.513044</td>\n      <td>12.700</td>\n      <td>10.620</td>\n      <td>52.457726</td>\n      <td>4.825823</td>\n      <td>140.0</td>\n      <td>7.2</td>\n    </tr>\n  </tbody>\n</table>\n<p>177977 rows × 10 columns</p>\n</div>"
     },
     "execution_count": 3,
     "metadata": {},
     "output_type": "execute_result"
    }
   ],
   "source": [
    "Process.grouped_data"
   ],
   "metadata": {
    "collapsed": false,
    "ExecuteTime": {
     "end_time": "2024-03-06T11:39:26.262770Z",
     "start_time": "2024-03-06T11:39:26.248657Z"
    }
   },
   "id": "813b048c8c2ae1d9",
   "execution_count": 3
  },
  {
   "cell_type": "code",
   "outputs": [
    {
     "data": {
      "text/plain": "array(['Amsterdam', 'Beverwijk', 'Driehuis', 'Heemskerk', 'IJmuiden',\n       'Velsen-Noord', 'Zaandam'], dtype=object)"
     },
     "execution_count": 4,
     "metadata": {},
     "output_type": "execute_result"
    }
   ],
   "source": [
    "Process.grouped_data[\"tag\"].unique()"
   ],
   "metadata": {
    "collapsed": false,
    "ExecuteTime": {
     "end_time": "2024-03-06T11:42:12.228246Z",
     "start_time": "2024-03-06T11:42:12.218485Z"
    }
   },
   "id": "5f5945bad8b29748",
   "execution_count": 4
  },
  {
   "cell_type": "code",
   "outputs": [],
   "source": [],
   "metadata": {
    "collapsed": false
   },
   "id": "dffec13725752eb5"
  }
 ],
 "metadata": {
  "kernelspec": {
   "display_name": "Python 3",
   "language": "python",
   "name": "python3"
  },
  "language_info": {
   "codemirror_mode": {
    "name": "ipython",
    "version": 2
   },
   "file_extension": ".py",
   "mimetype": "text/x-python",
   "name": "python",
   "nbconvert_exporter": "python",
   "pygments_lexer": "ipython2",
   "version": "2.7.6"
  }
 },
 "nbformat": 4,
 "nbformat_minor": 5
}
