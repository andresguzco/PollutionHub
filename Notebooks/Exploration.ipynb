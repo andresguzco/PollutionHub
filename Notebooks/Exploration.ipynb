{
 "cells": [
  {
   "cell_type": "code",
   "execution_count": 1,
   "id": "initial_id",
   "metadata": {
    "collapsed": true,
    "ExecuteTime": {
     "end_time": "2024-03-18T16:16:40.372899Z",
     "start_time": "2024-03-18T16:16:40.186735Z"
    }
   },
   "outputs": [],
   "source": [
    "import pandas as pd"
   ]
  },
  {
   "cell_type": "code",
   "outputs": [
    {
     "data": {
      "text/plain": "       pm25_Amsterdam  pm25_Beverwijk  pm25_Driehuis  pm25_Heemskerk  \\\n0            1.347500        1.289500       1.167333        1.263000   \n1            1.664750        1.508143       1.244000        1.523667   \n2            1.303583        1.380125       1.237333        1.233667   \n3            1.566500        1.279000       1.038333        1.345333   \n4            1.797000        1.513857       1.167333        1.862333   \n...               ...             ...            ...             ...   \n24911       67.916000       20.950000      19.008000        5.058000   \n24912       67.916000       20.950000      19.008000        3.329000   \n24913       67.916000       14.979333      19.008000        2.815000   \n24914       67.916000       15.276667      19.008000        4.689000   \n24915       67.916000       15.276667      19.008000       18.664000   \n\n       pm25_IJmuiden  pm25_Velsen-Noord  pm25_Zaandam  Wind Speed  \\\n0             1.3116               0.85        1.3758         7.2   \n1             1.2456               1.30        1.6932         7.2   \n2             1.0652               0.85        1.4076         3.6   \n3             1.2368               1.06        1.4428         3.6   \n4             1.4818               1.00        1.7298         3.6   \n...              ...                ...           ...         ...   \n24911         0.0170              13.00       11.5320        25.2   \n24912         0.0170              13.00        7.5740        14.4   \n24913         0.0170              13.00        7.1780         7.2   \n24914         0.0170              13.00        9.3735         7.2   \n24915         0.0000              13.00       11.5510        14.4   \n\n       Distance | Amsterdam_Amsterdam  Distance | Amsterdam_Beverwijk  ...  \\\n0                                 0.0                       19.962178  ...   \n1                                 0.0                       19.962178  ...   \n2                                 0.0                       19.962178  ...   \n3                                 0.0                       19.962178  ...   \n4                                 0.0                       19.962178  ...   \n...                               ...                             ...  ...   \n24911                             0.0                       19.962178  ...   \n24912                             0.0                       19.962178  ...   \n24913                             0.0                       19.962178  ...   \n24914                             0.0                       19.962178  ...   \n24915                             0.0                       19.962178  ...   \n\n       Angle | Velsen-Noord_IJmuiden  Angle | Velsen-Noord_Velsen-Noord  \\\n0                           0.514230                           0.903705   \n1                          -0.982008                          -0.283691   \n2                           0.097504                           1.000000   \n3                           0.992838                          -0.022097   \n4                          -0.898057                          -0.525348   \n...                              ...                                ...   \n24911                      -0.994857                          -0.197814   \n24912                      -0.313508                          -0.975629   \n24913                      -0.994857                          -0.197814   \n24914                       0.779650                           0.699251   \n24915                      -0.994857                          -0.197814   \n\n       Angle | Velsen-Noord_Zaandam  Angle | Zaandam_Amsterdam  \\\n0                          0.132661                   0.879915   \n1                         -0.827004                  -0.940875   \n2                         -0.304484                   0.591755   \n3                          0.959013                   0.792846   \n4                         -0.650525                  -0.996793   \n...                             ...                        ...   \n24911                     -0.873464                  -0.907246   \n24912                      0.088058                  -0.754216   \n24913                     -0.873464                  -0.907246   \n24914                      0.468021                   0.990060   \n24915                     -0.873464                  -0.907246   \n\n       Angle | Zaandam_Beverwijk  Angle | Zaandam_Driehuis  \\\n0                      -0.999995                  0.976353   \n1                       0.669171                 -0.490089   \n2                      -0.902416                  0.974894   \n3                      -0.410819                  0.201072   \n4                       0.840700                 -0.701624   \n...                          ...                       ...   \n24911                   0.600861                 -0.411115   \n24912                   0.974967                 -0.999994   \n24913                   0.600861                 -0.411115   \n24914                  -0.939031                  0.840876   \n24915                   0.600861                 -0.411115   \n\n       Angle | Zaandam_Heemskerk  Angle | Zaandam_IJmuiden  \\\n0                      -0.745379                  0.366171   \n1                       0.000398                  0.449150   \n2                      -0.959029                  0.729330   \n3                       0.304431                 -0.700111   \n4                       0.262759                  0.198994   \n...                          ...                       ...   \n24911                  -0.088002                  0.526372   \n24912                   0.873491                 -0.561433   \n24913                  -0.088002                  0.526372   \n24914                  -0.468070                  0.020893   \n24915                  -0.088002                  0.526372   \n\n       Angle | Zaandam_Velsen-Noord  Angle | Zaandam_Zaandam  \n0                         -0.130527                 0.903705  \n1                         -0.651685                -0.283691  \n2                         -0.542450                 1.000000  \n3                          0.851869                -0.022097  \n4                         -0.429846                -0.525348  \n...                             ...                      ...  \n24911                     -0.716184                -0.197814  \n24912                      0.344894                -0.975629  \n24913                     -0.716184                -0.197814  \n24914                      0.221250                 0.699251  \n24915                     -0.716184                -0.197814  \n\n[24916 rows x 106 columns]",
      "text/html": "<div>\n<style scoped>\n    .dataframe tbody tr th:only-of-type {\n        vertical-align: middle;\n    }\n\n    .dataframe tbody tr th {\n        vertical-align: top;\n    }\n\n    .dataframe thead th {\n        text-align: right;\n    }\n</style>\n<table border=\"1\" class=\"dataframe\">\n  <thead>\n    <tr style=\"text-align: right;\">\n      <th></th>\n      <th>pm25_Amsterdam</th>\n      <th>pm25_Beverwijk</th>\n      <th>pm25_Driehuis</th>\n      <th>pm25_Heemskerk</th>\n      <th>pm25_IJmuiden</th>\n      <th>pm25_Velsen-Noord</th>\n      <th>pm25_Zaandam</th>\n      <th>Wind Speed</th>\n      <th>Distance | Amsterdam_Amsterdam</th>\n      <th>Distance | Amsterdam_Beverwijk</th>\n      <th>...</th>\n      <th>Angle | Velsen-Noord_IJmuiden</th>\n      <th>Angle | Velsen-Noord_Velsen-Noord</th>\n      <th>Angle | Velsen-Noord_Zaandam</th>\n      <th>Angle | Zaandam_Amsterdam</th>\n      <th>Angle | Zaandam_Beverwijk</th>\n      <th>Angle | Zaandam_Driehuis</th>\n      <th>Angle | Zaandam_Heemskerk</th>\n      <th>Angle | Zaandam_IJmuiden</th>\n      <th>Angle | Zaandam_Velsen-Noord</th>\n      <th>Angle | Zaandam_Zaandam</th>\n    </tr>\n  </thead>\n  <tbody>\n    <tr>\n      <th>0</th>\n      <td>1.347500</td>\n      <td>1.289500</td>\n      <td>1.167333</td>\n      <td>1.263000</td>\n      <td>1.3116</td>\n      <td>0.85</td>\n      <td>1.3758</td>\n      <td>7.2</td>\n      <td>0.0</td>\n      <td>19.962178</td>\n      <td>...</td>\n      <td>0.514230</td>\n      <td>0.903705</td>\n      <td>0.132661</td>\n      <td>0.879915</td>\n      <td>-0.999995</td>\n      <td>0.976353</td>\n      <td>-0.745379</td>\n      <td>0.366171</td>\n      <td>-0.130527</td>\n      <td>0.903705</td>\n    </tr>\n    <tr>\n      <th>1</th>\n      <td>1.664750</td>\n      <td>1.508143</td>\n      <td>1.244000</td>\n      <td>1.523667</td>\n      <td>1.2456</td>\n      <td>1.30</td>\n      <td>1.6932</td>\n      <td>7.2</td>\n      <td>0.0</td>\n      <td>19.962178</td>\n      <td>...</td>\n      <td>-0.982008</td>\n      <td>-0.283691</td>\n      <td>-0.827004</td>\n      <td>-0.940875</td>\n      <td>0.669171</td>\n      <td>-0.490089</td>\n      <td>0.000398</td>\n      <td>0.449150</td>\n      <td>-0.651685</td>\n      <td>-0.283691</td>\n    </tr>\n    <tr>\n      <th>2</th>\n      <td>1.303583</td>\n      <td>1.380125</td>\n      <td>1.237333</td>\n      <td>1.233667</td>\n      <td>1.0652</td>\n      <td>0.85</td>\n      <td>1.4076</td>\n      <td>3.6</td>\n      <td>0.0</td>\n      <td>19.962178</td>\n      <td>...</td>\n      <td>0.097504</td>\n      <td>1.000000</td>\n      <td>-0.304484</td>\n      <td>0.591755</td>\n      <td>-0.902416</td>\n      <td>0.974894</td>\n      <td>-0.959029</td>\n      <td>0.729330</td>\n      <td>-0.542450</td>\n      <td>1.000000</td>\n    </tr>\n    <tr>\n      <th>3</th>\n      <td>1.566500</td>\n      <td>1.279000</td>\n      <td>1.038333</td>\n      <td>1.345333</td>\n      <td>1.2368</td>\n      <td>1.06</td>\n      <td>1.4428</td>\n      <td>3.6</td>\n      <td>0.0</td>\n      <td>19.962178</td>\n      <td>...</td>\n      <td>0.992838</td>\n      <td>-0.022097</td>\n      <td>0.959013</td>\n      <td>0.792846</td>\n      <td>-0.410819</td>\n      <td>0.201072</td>\n      <td>0.304431</td>\n      <td>-0.700111</td>\n      <td>0.851869</td>\n      <td>-0.022097</td>\n    </tr>\n    <tr>\n      <th>4</th>\n      <td>1.797000</td>\n      <td>1.513857</td>\n      <td>1.167333</td>\n      <td>1.862333</td>\n      <td>1.4818</td>\n      <td>1.00</td>\n      <td>1.7298</td>\n      <td>3.6</td>\n      <td>0.0</td>\n      <td>19.962178</td>\n      <td>...</td>\n      <td>-0.898057</td>\n      <td>-0.525348</td>\n      <td>-0.650525</td>\n      <td>-0.996793</td>\n      <td>0.840700</td>\n      <td>-0.701624</td>\n      <td>0.262759</td>\n      <td>0.198994</td>\n      <td>-0.429846</td>\n      <td>-0.525348</td>\n    </tr>\n    <tr>\n      <th>...</th>\n      <td>...</td>\n      <td>...</td>\n      <td>...</td>\n      <td>...</td>\n      <td>...</td>\n      <td>...</td>\n      <td>...</td>\n      <td>...</td>\n      <td>...</td>\n      <td>...</td>\n      <td>...</td>\n      <td>...</td>\n      <td>...</td>\n      <td>...</td>\n      <td>...</td>\n      <td>...</td>\n      <td>...</td>\n      <td>...</td>\n      <td>...</td>\n      <td>...</td>\n      <td>...</td>\n    </tr>\n    <tr>\n      <th>24911</th>\n      <td>67.916000</td>\n      <td>20.950000</td>\n      <td>19.008000</td>\n      <td>5.058000</td>\n      <td>0.0170</td>\n      <td>13.00</td>\n      <td>11.5320</td>\n      <td>25.2</td>\n      <td>0.0</td>\n      <td>19.962178</td>\n      <td>...</td>\n      <td>-0.994857</td>\n      <td>-0.197814</td>\n      <td>-0.873464</td>\n      <td>-0.907246</td>\n      <td>0.600861</td>\n      <td>-0.411115</td>\n      <td>-0.088002</td>\n      <td>0.526372</td>\n      <td>-0.716184</td>\n      <td>-0.197814</td>\n    </tr>\n    <tr>\n      <th>24912</th>\n      <td>67.916000</td>\n      <td>20.950000</td>\n      <td>19.008000</td>\n      <td>3.329000</td>\n      <td>0.0170</td>\n      <td>13.00</td>\n      <td>7.5740</td>\n      <td>14.4</td>\n      <td>0.0</td>\n      <td>19.962178</td>\n      <td>...</td>\n      <td>-0.313508</td>\n      <td>-0.975629</td>\n      <td>0.088058</td>\n      <td>-0.754216</td>\n      <td>0.974967</td>\n      <td>-0.999994</td>\n      <td>0.873491</td>\n      <td>-0.561433</td>\n      <td>0.344894</td>\n      <td>-0.975629</td>\n    </tr>\n    <tr>\n      <th>24913</th>\n      <td>67.916000</td>\n      <td>14.979333</td>\n      <td>19.008000</td>\n      <td>2.815000</td>\n      <td>0.0170</td>\n      <td>13.00</td>\n      <td>7.1780</td>\n      <td>7.2</td>\n      <td>0.0</td>\n      <td>19.962178</td>\n      <td>...</td>\n      <td>-0.994857</td>\n      <td>-0.197814</td>\n      <td>-0.873464</td>\n      <td>-0.907246</td>\n      <td>0.600861</td>\n      <td>-0.411115</td>\n      <td>-0.088002</td>\n      <td>0.526372</td>\n      <td>-0.716184</td>\n      <td>-0.197814</td>\n    </tr>\n    <tr>\n      <th>24914</th>\n      <td>67.916000</td>\n      <td>15.276667</td>\n      <td>19.008000</td>\n      <td>4.689000</td>\n      <td>0.0170</td>\n      <td>13.00</td>\n      <td>9.3735</td>\n      <td>7.2</td>\n      <td>0.0</td>\n      <td>19.962178</td>\n      <td>...</td>\n      <td>0.779650</td>\n      <td>0.699251</td>\n      <td>0.468021</td>\n      <td>0.990060</td>\n      <td>-0.939031</td>\n      <td>0.840876</td>\n      <td>-0.468070</td>\n      <td>0.020893</td>\n      <td>0.221250</td>\n      <td>0.699251</td>\n    </tr>\n    <tr>\n      <th>24915</th>\n      <td>67.916000</td>\n      <td>15.276667</td>\n      <td>19.008000</td>\n      <td>18.664000</td>\n      <td>0.0000</td>\n      <td>13.00</td>\n      <td>11.5510</td>\n      <td>14.4</td>\n      <td>0.0</td>\n      <td>19.962178</td>\n      <td>...</td>\n      <td>-0.994857</td>\n      <td>-0.197814</td>\n      <td>-0.873464</td>\n      <td>-0.907246</td>\n      <td>0.600861</td>\n      <td>-0.411115</td>\n      <td>-0.088002</td>\n      <td>0.526372</td>\n      <td>-0.716184</td>\n      <td>-0.197814</td>\n    </tr>\n  </tbody>\n</table>\n<p>24916 rows × 106 columns</p>\n</div>"
     },
     "execution_count": 4,
     "metadata": {},
     "output_type": "execute_result"
    }
   ],
   "source": [
    "df = pd.read_csv('../DTO/CleanData.csv')\n",
    "df.drop('timestamp', axis=1, inplace=True)\n",
    "df"
   ],
   "metadata": {
    "collapsed": false,
    "ExecuteTime": {
     "end_time": "2024-03-18T16:17:02.838719Z",
     "start_time": "2024-03-18T16:17:02.651419Z"
    }
   },
   "id": "6bb30b20dcd38c82",
   "execution_count": 4
  },
  {
   "cell_type": "code",
   "outputs": [],
   "source": [],
   "metadata": {
    "collapsed": false
   },
   "id": "84a23c2f0b753344"
  }
 ],
 "metadata": {
  "kernelspec": {
   "display_name": "Python 3",
   "language": "python",
   "name": "python3"
  },
  "language_info": {
   "codemirror_mode": {
    "name": "ipython",
    "version": 2
   },
   "file_extension": ".py",
   "mimetype": "text/x-python",
   "name": "python",
   "nbconvert_exporter": "python",
   "pygments_lexer": "ipython2",
   "version": "2.7.6"
  }
 },
 "nbformat": 4,
 "nbformat_minor": 5
}
